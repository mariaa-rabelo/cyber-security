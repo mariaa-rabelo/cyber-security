{
 "cells": [
  {
   "cell_type": "code",
   "execution_count": null,
   "id": "801577e4",
   "metadata": {},
   "outputs": [],
   "source": [
    "import pandas as pd\n",
    "Prepare Data\n",
    "data = pd.read_csv('../../data/CSVs/Total_CSVs.md5') "
   ]
  },
  {
   "cell_type": "code",
   "execution_count": null,
   "id": "ecd7b7e2-0806-4ac8-9667-c3d64e21a17f",
   "metadata": {},
   "outputs": [],
   "source": [
    "from sklearn.model_selection import train_test_split\n",
    "#Divide Data\n",
    "\n",
    "'''\n",
    "FlowBytesSent,\n",
    "FlowSentRate,\n",
    "FlowBytesReceived,\n",
    "FlowReceivedRate,\n",
    "PacketLengthVariance,\n",
    "PacketLengthStandardDeviation,\n",
    "PacketLengthMean,\n",
    "PacketLengthMedian,\n",
    "PacketLengthMode,\n",
    "PacketLengthSkewFromMedian,\n",
    "PacketLengthSkewFromMode,\n",
    "PacketLengthCoefficientofVariation,\n",
    "PacketTimeVariance,\n",
    "PacketTimeStandardDeviation,\n",
    "PacketTimeMean,\n",
    "PacketTimeMedian,\n",
    "PacketTimeMode,\n",
    "PacketTimeSkewFromMedian,\n",
    "PacketTimeSkewFromMode,\n",
    "PacketTimeCoefficientofVariation,\n",
    "ResponseTimeTimeVariance,\n",
    "ResponseTimeTimeStandardDeviation,\n",
    "ResponseTimeTimeMean,\n",
    "ResponseTimeTimeMedian,\n",
    "ResponseTimeTimeMode,\n",
    "ResponseTimeTimeSkewFromMedian,\n",
    "ResponseTimeTimeSkewFromMode,\n",
    "ResponseTimeTimeCoefficientofVariation,\n",
    "Label\n",
    "'''\n",
    "\n",
    "X_train, X_test, y_train, y_test = train_test_split(data.drop('target', axis=1), data['target'], test_size=0.2, random_state=42)\n"
   ]
  },
  {
   "cell_type": "code",
   "execution_count": null,
   "id": "3899e785-f742-4677-a22a-5a38f218d9e7",
   "metadata": {},
   "outputs": [],
   "source": [
    "from sklearn.tree import DecisionTreeClassifier\n",
    "#Train Model\n",
    "\n",
    "model = DecisionTreeClassifier()\n",
    "model.fit(X_train, y_train)\n"
   ]
  },
  {
   "cell_type": "code",
   "execution_count": null,
   "id": "97110170-f063-41fe-b82f-41816aaabe59",
   "metadata": {},
   "outputs": [],
   "source": [
    "from sklearn.metrics import classification_report, confusion_matrix\n",
    "#Avaliate Model\n",
    "\n",
    "y_pred = model.predict(X_test)\n",
    "print(confusion_matrix(y_test, y_pred))\n",
    "print(classification_report(y_test, y_pred))\n"
   ]
  },
  {
   "cell_type": "code",
   "execution_count": null,
   "id": "40ae8231",
   "metadata": {},
   "outputs": [],
   "source": [
    "import seaborn as sns\n",
    "import matplotlib.pyplot as plt\n",
    "#Visual comparasion\n",
    "\n",
    "sns.set(style=\"whitegrid\")\n",
    "plt.figure(figsize=(10, 5))\n",
    "sns.barplot(x=['Model1', 'Model2'], y=[accuracy_model1, accuracy_model2])\n",
    "plt.show()\n"
   ]
  }
 ],
 "metadata": {
  "kernelspec": {
   "display_name": "Python 3 (ipykernel)",
   "language": "python",
   "name": "python3"
  },
  "language_info": {
   "codemirror_mode": {
    "name": "ipython",
    "version": 3
   },
   "file_extension": ".py",
   "mimetype": "text/x-python",
   "name": "python",
   "nbconvert_exporter": "python",
   "pygments_lexer": "ipython3",
   "version": "3.11.7"
  }
 },
 "nbformat": 4,
 "nbformat_minor": 5
}
